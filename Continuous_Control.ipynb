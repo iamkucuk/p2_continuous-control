{
 "cells": [
  {
   "cell_type": "markdown",
   "metadata": {},
   "source": [
    "# Continous Control\n",
    "\n",
    "The chosen algorithm for this scenario is A2C. There are some benefits from adopting A2C. These reasons were:\n",
    " - It's good for limited resources as it utilizes same network for both actor and critic.\n",
    " - The reason above also may be one of the reasons that it converges faster than other algorithms.\n",
    " - Can be converted to asynchronous version fairly quickly.\n",
    " - Why not?\n",
    " \n",
    "A2C Model:\n",
    " - As mentioned before, actor and critic heads share the same backbone. In the code, this network will be referred as \"TwoHeadModel\". \n",
    " - Backbone has an (n_inputs x 128) layer and (128x128) layer afterwards.\n",
    " - Actor head is in (128xn_actions) size.\n",
    " - Critic head is in (128x1) size.\n",
    "\n",
    "The agent takes advantage of A2C model mentioned above, and 20 averaged copies of itself for one trajectory. Has a length of 5 roll-out length, which basically means that each learning step utilizes 5 trajectories. Keeping trajectories between 4-6 seems logical. The reason is, too short trajectories may result a biased learning and too long trajectories may lead to high variance. \n",
    "\n",
    "The training code is as follows."
   ]
  },
  {
   "cell_type": "code",
   "execution_count": 1,
   "metadata": {},
   "outputs": [],
   "source": [
    "from collections import deque\n",
    "import numpy as np\n",
    "import torch\n",
    "from tqdm.auto import trange, tqdm\n",
    "\n",
    "from unityagents import UnityEnvironment\n",
    "\n",
    "from agent import Agent"
   ]
  },
  {
   "cell_type": "markdown",
   "metadata": {},
   "source": [
    "Here are some hyper-parameters employed during training. The choices are obvious from the naming. To explain the choices given below:\n",
    " - Learning rate: Learning rates often choose that value in reinforcement learning and makes a good starting point to just solving the environment.\n",
    " - Buffer size: This is also rollout size of the value function.\n",
    " - Gamma: This is the discount factor to utilize future rewards. It's better to be close to 1. However, I find this parameter to have most effect on the training process. Agent couldn't solve the environment with a gamma value of 0.99. However, could solve easily with 0.95. This may due to environments characteristic of state update. Early steps are valuable, but apperantly not for this environment. \n",
    " \n",
    "Notes on rolling out the past experiences: \n",
    "- Tried to employ Experience Replay method for rolling out. Was no success. It was obvious it will not work because A2C is an online learning algorithm.\n",
    "- Using a sliding window of experience (for example using frame 1 to 5 than 2 to 6 than 3 to 7) did some work, but not as good as using unseen state values. (for example using frame 1 to 5 then 6 to 10 than 11 to 15)."
   ]
  },
  {
   "cell_type": "code",
   "execution_count": 2,
   "metadata": {},
   "outputs": [],
   "source": [
    "args = {\n",
    "    \"lr\": 1e-4,\n",
    "    \"buffer_size\": 5,\n",
    "    \"batch_size\": 5,\n",
    "    \"gamma\": .95,\n",
    "}\n",
    "environment_path = \"Reacher_Windows_x86_64/Reacher.exe\"\n",
    "termination_threshold=30\n",
    "n_trajectories=int(2000)\n",
    "max_t=1000"
   ]
  },
  {
   "cell_type": "markdown",
   "metadata": {},
   "source": [
    "Let's easify the environment creation process. This may be useful for asynchronous agents."
   ]
  },
  {
   "cell_type": "code",
   "execution_count": 3,
   "metadata": {},
   "outputs": [],
   "source": [
    "def create_env(env_path):\n",
    "    \"\"\"\n",
    "    Creates an rl environment\n",
    "    :param env_path: Path to environment \n",
    "    :return: environment, state size, action size and brain name\n",
    "    \"\"\"\n",
    "    env = UnityEnvironment(file_name=env_path)\n",
    "    brain_name = env.brain_names[0]\n",
    "    brain = env.brains[brain_name]\n",
    "\n",
    "    env_info = env.reset()[brain_name]\n",
    "\n",
    "    action_size = brain.vector_action_space_size\n",
    "\n",
    "    states = env_info.vector_observations\n",
    "    state_size = states.shape[1]\n",
    "\n",
    "    return env, state_size, action_size, brain_name"
   ]
  },
  {
   "cell_type": "markdown",
   "metadata": {},
   "source": [
    "Creation of A2C agent."
   ]
  },
  {
   "cell_type": "code",
   "execution_count": 4,
   "metadata": {},
   "outputs": [
    {
     "name": "stderr",
     "output_type": "stream",
     "text": [
      "INFO:unityagents:\n",
      "'Academy' started successfully!\n",
      "Unity Academy name: Academy\n",
      "        Number of Brains: 1\n",
      "        Number of External Brains : 1\n",
      "        Lesson number : 0\n",
      "        Reset Parameters :\n",
      "\t\tgoal_speed -> 1.0\n",
      "\t\tgoal_size -> 5.0\n",
      "Unity brain name: ReacherBrain\n",
      "        Number of Visual Observations (per agent): 0\n",
      "        Vector Observation space type: continuous\n",
      "        Vector Observation space size (per agent): 33\n",
      "        Number of stacked Vector Observation: 1\n",
      "        Vector Action space type: continuous\n",
      "        Vector Action space size (per agent): 4\n",
      "        Vector Action descriptions: , , , \n"
     ]
    }
   ],
   "source": [
    "env, state_size, action_size, brain_name = create_env(env_path=environment_path)\n",
    "\n",
    "device = torch.device('cuda:0' if torch.cuda.is_available() else 'cpu')\n",
    "agent = Agent(state_size, action_size, args=args, device=device)"
   ]
  },
  {
   "cell_type": "markdown",
   "metadata": {},
   "source": [
    "Training loop for training."
   ]
  },
  {
   "cell_type": "code",
   "execution_count": 5,
   "metadata": {},
   "outputs": [
    {
     "data": {
      "application/vnd.jupyter.widget-view+json": {
       "model_id": "cf22cf1f619148e9b738134bd2a1f3ac",
       "version_major": 2,
       "version_minor": 0
      },
      "text/plain": [
       "HBox(children=(FloatProgress(value=0.0, description='Trajectories', max=1999.0, style=ProgressStyle(descriptio…"
      ]
     },
     "metadata": {},
     "output_type": "display_data"
    },
    {
     "data": {
      "application/vnd.jupyter.widget-view+json": {
       "model_id": "1f82e673ea844e37a205b4df56e32097",
       "version_major": 2,
       "version_minor": 0
      },
      "text/plain": [
       "HBox(children=(FloatProgress(value=0.0, max=1000.0), HTML(value='')))"
      ]
     },
     "metadata": {},
     "output_type": "display_data"
    },
    {
     "name": "stdout",
     "output_type": "stream",
     "text": [
      "\n",
      "Environment solved in 162 episodes!\tAverage Score: 30.02\n",
      "\n"
     ]
    }
   ],
   "source": [
    "scores_deque = deque(maxlen=100)\n",
    "scores = []\n",
    "tqdm_bar = trange(1, n_trajectories, desc=\"Trajectories\")\n",
    "episode_bar = tqdm(total=max_t)\n",
    "for i in tqdm_bar:\n",
    "    state = env.reset(train_mode=True)[brain_name].vector_observations\n",
    "    score = 0\n",
    "    for t in range(1, max_t + 1):\n",
    "        action, prob, q_value = agent.act(state)\n",
    "        env_info = env.step(action.detach().cpu().data.numpy())[brain_name]\n",
    "        next_state, reward, done = env_info.vector_observations, env_info.rewards, env_info.local_done\n",
    "        agent.step(action, reward, prob, done, q_value)\n",
    "        state = next_state\n",
    "        score += np.mean(reward)\n",
    "        if t % 100 == 0:\n",
    "            episode_bar.set_description(\"Time Step T: {}, Score: {:.2f}\".format(t, score))\n",
    "            episode_bar.update(100)\n",
    "\n",
    "    episode_bar.reset()\n",
    "    tqdm_bar.set_description(\"Episode: {}, Score: {:.2f}\".format(i, score))\n",
    "    scores_deque.append(score)\n",
    "    scores.append(score)\n",
    "    \n",
    "    if (i > 10) and (scores[-1] > scores[-2]):\n",
    "        torch.save(agent.TwoHeadModel.state_dict(), 'checkpoint.pth')\n",
    "\n",
    "    if np.mean(scores_deque) > termination_threshold:\n",
    "        print('\\nEnvironment solved in {:d} episodes!\\tAverage Score: {:.2f}'.format(i - 100,\n",
    "                                                                                     np.mean(scores_deque)))\n",
    "        break\n",
    "\n",
    "env.close()"
   ]
  },
  {
   "cell_type": "markdown",
   "metadata": {},
   "source": [
    "Plot of scores overtime."
   ]
  },
  {
   "cell_type": "code",
   "execution_count": 7,
   "metadata": {},
   "outputs": [
    {
     "data": {
      "text/plain": [
       "[<matplotlib.lines.Line2D at 0x7f8dbc2be2e8>]"
      ]
     },
     "execution_count": 7,
     "metadata": {},
     "output_type": "execute_result"
    },
    {
     "data": {
      "image/png": "[encoded data removed]",
      "text/plain": [
       "<Figure size 432x288 with 1 Axes>"
      ]
     },
     "metadata": {
      "needs_background": "light"
     },
     "output_type": "display_data"
    }
   ],
   "source": [
    "import matplotlib.pyplot as plt\n",
    "plt.plot(scores)\n"
   ]
  },
  {
   "cell_type": "markdown",
   "metadata": {},
   "source": [
    "## Conclusions\n",
    "\n",
    "- A2C model seems to solve environment effectively.\n",
    "- The reason why A2C model couldn't reach the maximum score is a gaussian noise being added at the output of the network. This process helps the model not to stuck in a local optima.\n",
    "- Gamma parameter appears to be the most important parameter for A2C and should be adjusted accordingly to the environment.\n",
    "- \n",
    "\n",
    "## Future Work\n",
    "- Implementing other algorithms like D4GP, A3C etc.\n",
    "- Implementing multi-threaded working environment for faster training\n",
    "- Employment of pixel state should be fun but not a must. In real life, robotic arms usually does not have pixel states, but sensory data."
   ]
  },
  {
   "cell_type": "markdown",
   "metadata": {
    "pycharm": {
     "name": "#%% md\n"
    }
   },
   "source": [
    "## Test the model!\n",
    "One can simply test the trained model by running the code below."
   ]
  },
  {
   "cell_type": "code",
   "execution_count": null,
   "metadata": {
    "pycharm": {
     "name": "#%%\n"
    }
   },
   "outputs": [],
   "source": [
    "agent = Agent(state_size, action_size, args=args, device=device, eval_mode=True)\n",
    "agent.TwoHeadModel.load_state_dict(torch.load(\"checkpoint.pth\"))\n",
    "\n",
    "while True:\n",
    "    state = env.reset(train_mode=False)[brain_name].vector_observations\n",
    "    score = 0\n",
    "    for t in range(max_t):\n",
    "        action, prob, q_value = agent.act(state)\n",
    "        env_info = env.step(action.detach().cpu().data.numpy())[brain_name]\n",
    "        next_state, reward, done = env_info.vector_observations, env_info.rewards, env_info.local_done\n",
    "        state = next_state\n",
    "        score += np.mean(reward)\n",
    "\n",
    "    print(\"score: {}\".format(score))\n",
    "\n"
   ]
  },
  {
   "cell_type": "code",
   "execution_count": null,
   "metadata": {
    "pycharm": {
     "name": "#%%\n"
    }
   },
   "outputs": [
    {
     "name": "stdout",
     "output_type": "stream",
     "text": [
      "score: 39.19249912397939\n",
      "score: 38.78649913305417\n",
      "score: 37.794499155227236\n",
      "score: 39.33099912088364\n",
      "score: 39.22799912318588\n",
      "score: 39.16499912459403\n",
      "score: 39.30149912154302\n",
      "score: 39.25849912250415\n"
     ]
    }
   ],
   "source": []
  },
  {
   "cell_type": "code",
   "execution_count": null,
   "outputs": [],
   "source": [
    "# Shout out!\n",
    "The postprocessing step was hard and was full of computation graph not being compiled and back propagation not happening. This A2C implementation help me out a lot! https://github.com/qiaochen/A2C/blob/master/agent.py"
   ],
   "metadata": {
    "collapsed": false,
    "pycharm": {
     "name": "#%%\n"
    }
   }
  },
  {
   "cell_type": "markdown",
   "metadata": {
    "pycharm": {
     "name": "#%%\n"
    }
   },
   "source": []
  },
  {
   "cell_type": "code",
   "execution_count": null,
   "metadata": {},
   "outputs": [],
   "source": []
  }
 ],
 "metadata": {
  "kernelspec": {
   "display_name": "Python 3",
   "language": "python",
   "name": "python3"
  },
  "language_info": {
   "codemirror_mode": {
    "name": "ipython",
    "version": 3
   },
   "file_extension": ".py",
   "mimetype": "text/x-python",
   "name": "python",
   "nbconvert_exporter": "python",
   "pygments_lexer": "ipython3",
   "version": "3.6.10"
  }
 },
 "nbformat": 4,
 "nbformat_minor": 2
}